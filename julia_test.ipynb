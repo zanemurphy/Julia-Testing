{
 "cells": [
  {
   "cell_type": "markdown",
   "metadata": {},
   "source": [
    "# Learning Julia"
   ]
  },
  {
   "cell_type": "markdown",
   "metadata": {},
   "source": [
    "This notebook is meant to be an introduction to the Julia Language. Below we will provide some examples of basic operations, functions, and data types. This tutorial was made by following the walkthrough at this [link](https://www.analyticsvidhya.com/blog/2017/10/comprehensive-tutorial-learn-data-science-julia-from-scratch/)."
   ]
  },
  {
   "cell_type": "markdown",
   "metadata": {},
   "source": [
    "The full Julia documentation (Version 1) is available [here](https://docs.julialang.org/en/v1/)."
   ]
  },
  {
   "cell_type": "markdown",
   "metadata": {},
   "source": [
    "## Operations"
   ]
  },
  {
   "cell_type": "markdown",
   "metadata": {},
   "source": [
    "Addition"
   ]
  },
  {
   "cell_type": "code",
   "execution_count": 2,
   "metadata": {},
   "outputs": [
    {
     "data": {
      "text/plain": [
       "9"
      ]
     },
     "execution_count": 2,
     "metadata": {},
     "output_type": "execute_result"
    }
   ],
   "source": [
    "4+5"
   ]
  },
  {
   "cell_type": "markdown",
   "metadata": {},
   "source": [
    "Exponentiation"
   ]
  },
  {
   "cell_type": "code",
   "execution_count": 3,
   "metadata": {},
   "outputs": [
    {
     "data": {
      "text/plain": [
       "81"
      ]
     },
     "execution_count": 3,
     "metadata": {},
     "output_type": "execute_result"
    }
   ],
   "source": [
    "3^4"
   ]
  },
  {
   "cell_type": "markdown",
   "metadata": {},
   "source": [
    "Division"
   ]
  },
  {
   "cell_type": "code",
   "execution_count": 4,
   "metadata": {},
   "outputs": [
    {
     "data": {
      "text/plain": [
       "45.5"
      ]
     },
     "execution_count": 4,
     "metadata": {},
     "output_type": "execute_result"
    }
   ],
   "source": [
    "91/2"
   ]
  },
  {
   "cell_type": "markdown",
   "metadata": {},
   "source": [
    "## Data Types"
   ]
  },
  {
   "cell_type": "markdown",
   "metadata": {},
   "source": [
    "### Arrays"
   ]
  },
  {
   "cell_type": "code",
   "execution_count": 5,
   "metadata": {},
   "outputs": [
    {
     "data": {
      "text/plain": [
       "3-element Array{Int64,1}:\n",
       " 10\n",
       " 20\n",
       " 30"
      ]
     },
     "execution_count": 5,
     "metadata": {},
     "output_type": "execute_result"
    }
   ],
   "source": [
    "A = [10, 20, 30]"
   ]
  },
  {
   "cell_type": "markdown",
   "metadata": {},
   "source": [
    "Access the first element of the array"
   ]
  },
  {
   "cell_type": "code",
   "execution_count": 6,
   "metadata": {},
   "outputs": [
    {
     "data": {
      "text/plain": [
       "10"
      ]
     },
     "execution_count": 6,
     "metadata": {},
     "output_type": "execute_result"
    }
   ],
   "source": [
    "A[1] #Julia is a 1-indexed language"
   ]
  },
  {
   "cell_type": "markdown",
   "metadata": {},
   "source": [
    "### Column Vectors"
   ]
  },
  {
   "cell_type": "code",
   "execution_count": 7,
   "metadata": {},
   "outputs": [
    {
     "data": {
      "text/plain": [
       "3-element Array{Int64,1}:\n",
       " 10\n",
       " 20\n",
       " 30"
      ]
     },
     "execution_count": 7,
     "metadata": {},
     "output_type": "execute_result"
    }
   ],
   "source": [
    "B = [10; 20; 30] # Semi-colon denotes row-change"
   ]
  },
  {
   "cell_type": "markdown",
   "metadata": {},
   "source": [
    "Change the value of the first entry"
   ]
  },
  {
   "cell_type": "code",
   "execution_count": 8,
   "metadata": {},
   "outputs": [
    {
     "data": {
      "text/plain": [
       "3-element Array{Int64,1}:\n",
       " 199\n",
       "  20\n",
       "  30"
      ]
     },
     "execution_count": 8,
     "metadata": {},
     "output_type": "execute_result"
    }
   ],
   "source": [
    "B[1] = 199\n",
    "B"
   ]
  },
  {
   "cell_type": "markdown",
   "metadata": {},
   "source": [
    "### Matrix operations"
   ]
  },
  {
   "cell_type": "markdown",
   "metadata": {},
   "source": [
    "Create an array"
   ]
  },
  {
   "cell_type": "code",
   "execution_count": 9,
   "metadata": {},
   "outputs": [
    {
     "data": {
      "text/plain": [
       "3×3 Array{Int64,2}:\n",
       " 1  2  3\n",
       " 4  5  6\n",
       " 7  8  9"
      ]
     },
     "execution_count": 9,
     "metadata": {},
     "output_type": "execute_result"
    }
   ],
   "source": [
    "M = [1 2 3; 4 5 6; 7 8 9]"
   ]
  },
  {
   "cell_type": "markdown",
   "metadata": {},
   "source": [
    "Access/change the elements of an array by index"
   ]
  },
  {
   "cell_type": "code",
   "execution_count": 10,
   "metadata": {},
   "outputs": [
    {
     "data": {
      "text/plain": [
       "3663"
      ]
     },
     "execution_count": 10,
     "metadata": {},
     "output_type": "execute_result"
    }
   ],
   "source": [
    "M[1,2] = 3663"
   ]
  },
  {
   "cell_type": "markdown",
   "metadata": {},
   "source": [
    "Transpose a matrix with a single quote"
   ]
  },
  {
   "cell_type": "code",
   "execution_count": 11,
   "metadata": {},
   "outputs": [
    {
     "data": {
      "text/plain": [
       "3×3 LinearAlgebra.Adjoint{Int64,Array{Int64,2}}:\n",
       "    1  4  7\n",
       " 3663  5  8\n",
       "    3  6  9"
      ]
     },
     "execution_count": 11,
     "metadata": {},
     "output_type": "execute_result"
    }
   ],
   "source": [
    "M'"
   ]
  },
  {
   "cell_type": "markdown",
   "metadata": {},
   "source": [
    "Take the inverse of a matrix with the inv() command"
   ]
  },
  {
   "cell_type": "code",
   "execution_count": 12,
   "metadata": {},
   "outputs": [
    {
     "data": {
      "text/plain": [
       "3×3 Array{Float64,2}:\n",
       " -0.000136575  -1.49973       0.999863   \n",
       "  0.000273149  -0.000546299   0.000273149\n",
       " -0.000136575   1.16694      -0.666803   "
      ]
     },
     "execution_count": 12,
     "metadata": {},
     "output_type": "execute_result"
    }
   ],
   "source": [
    "inv(M)"
   ]
  },
  {
   "cell_type": "markdown",
   "metadata": {},
   "source": [
    "### Dictionaries"
   ]
  },
  {
   "cell_type": "markdown",
   "metadata": {},
   "source": [
    "A dictionary is an unordered set of key:value pairs, with unique keys in each dictionary."
   ]
  },
  {
   "cell_type": "markdown",
   "metadata": {},
   "source": [
    "Create a dictionary with the Dict() function"
   ]
  },
  {
   "cell_type": "code",
   "execution_count": 13,
   "metadata": {},
   "outputs": [
    {
     "data": {
      "text/plain": [
       "Dict{String,String} with 2 entries:\n",
       "  \"first_name\" => \"Zane\"\n",
       "  \"last_name\"  => \"Murphy\""
      ]
     },
     "execution_count": 13,
     "metadata": {},
     "output_type": "execute_result"
    }
   ],
   "source": [
    "D = Dict(\n",
    "    \"first_name\" => \"Zane\",\n",
    "    \"last_name\" => \"Murphy\"\n",
    ")"
   ]
  },
  {
   "cell_type": "markdown",
   "metadata": {},
   "source": [
    "Access the elements using keys"
   ]
  },
  {
   "cell_type": "code",
   "execution_count": 14,
   "metadata": {},
   "outputs": [
    {
     "data": {
      "text/plain": [
       "\"Zane\""
      ]
     },
     "execution_count": 14,
     "metadata": {},
     "output_type": "execute_result"
    }
   ],
   "source": [
    "D[\"first_name\"]"
   ]
  },
  {
   "cell_type": "code",
   "execution_count": 15,
   "metadata": {},
   "outputs": [
    {
     "data": {
      "text/plain": [
       "\"Murphy\""
      ]
     },
     "execution_count": 15,
     "metadata": {},
     "output_type": "execute_result"
    }
   ],
   "source": [
    "D[\"last_name\"]"
   ]
  },
  {
   "cell_type": "markdown",
   "metadata": {},
   "source": [
    "Count the number of elements in a dictionary"
   ]
  },
  {
   "cell_type": "code",
   "execution_count": 16,
   "metadata": {},
   "outputs": [
    {
     "data": {
      "text/plain": [
       "2"
      ]
     },
     "execution_count": 16,
     "metadata": {},
     "output_type": "execute_result"
    }
   ],
   "source": [
    "D.count"
   ]
  },
  {
   "cell_type": "markdown",
   "metadata": {},
   "source": [
    "### Strings"
   ]
  },
  {
   "cell_type": "markdown",
   "metadata": {},
   "source": [
    "Strings can simply be defined by use of double ( ” ) or triple ( ”’ ) quotes. Like Python, strings in Julia are also immutable."
   ]
  },
  {
   "cell_type": "markdown",
   "metadata": {},
   "source": [
    "Create a string"
   ]
  },
  {
   "cell_type": "code",
   "execution_count": 17,
   "metadata": {},
   "outputs": [
    {
     "data": {
      "text/plain": [
       "\"Sample String\""
      ]
     },
     "execution_count": 17,
     "metadata": {},
     "output_type": "execute_result"
    }
   ],
   "source": [
    "text = \"Sample String\""
   ]
  },
  {
   "cell_type": "markdown",
   "metadata": {},
   "source": [
    "Access a letter of a string"
   ]
  },
  {
   "cell_type": "code",
   "execution_count": 18,
   "metadata": {},
   "outputs": [
    {
     "data": {
      "text/plain": [
       "'S': ASCII/Unicode U+0053 (category Lu: Letter, uppercase)"
      ]
     },
     "execution_count": 18,
     "metadata": {},
     "output_type": "execute_result"
    }
   ],
   "source": [
    "text[1]"
   ]
  },
  {
   "cell_type": "markdown",
   "metadata": {},
   "source": [
    "Get the length of a string"
   ]
  },
  {
   "cell_type": "code",
   "execution_count": 19,
   "metadata": {},
   "outputs": [
    {
     "data": {
      "text/plain": [
       "13"
      ]
     },
     "execution_count": 19,
     "metadata": {},
     "output_type": "execute_result"
    }
   ],
   "source": [
    "length(text)"
   ]
  },
  {
   "cell_type": "markdown",
   "metadata": {},
   "source": [
    "Get a subset of a string"
   ]
  },
  {
   "cell_type": "code",
   "execution_count": 20,
   "metadata": {},
   "outputs": [
    {
     "data": {
      "text/plain": [
       "\"Sample\""
      ]
     },
     "execution_count": 20,
     "metadata": {},
     "output_type": "execute_result"
    }
   ],
   "source": [
    "text[1:6]"
   ]
  },
  {
   "cell_type": "markdown",
   "metadata": {},
   "source": [
    "Remember that strings are immutable"
   ]
  },
  {
   "cell_type": "code",
   "execution_count": 21,
   "metadata": {},
   "outputs": [
    {
     "ename": "MethodError",
     "evalue": "MethodError: no method matching setindex!(::String, ::String, ::Int64)",
     "output_type": "error",
     "traceback": [
      "MethodError: no method matching setindex!(::String, ::String, ::Int64)",
      "",
      "Stacktrace:",
      " [1] top-level scope at In[21]:1"
     ]
    }
   ],
   "source": [
    "text[1] = \"C\""
   ]
  },
  {
   "cell_type": "markdown",
   "metadata": {},
   "source": [
    "## Loops/Conditionals"
   ]
  },
  {
   "cell_type": "markdown",
   "metadata": {},
   "source": [
    "### For Loop"
   ]
  },
  {
   "cell_type": "markdown",
   "metadata": {},
   "source": [
    "The method for iteration in Julia has the following syntax:"
   ]
  },
  {
   "cell_type": "raw",
   "metadata": {},
   "source": [
    "for i in [Julia Iterable] \n",
    "    expression(i) \n",
    "end"
   ]
  },
  {
   "cell_type": "markdown",
   "metadata": {},
   "source": [
    "“Julia Iterable” can be a vector, string or other advanced data structure"
   ]
  },
  {
   "cell_type": "markdown",
   "metadata": {},
   "source": [
    "Let's compute a factorial"
   ]
  },
  {
   "cell_type": "code",
   "execution_count": 22,
   "metadata": {},
   "outputs": [
    {
     "name": "stdout",
     "output_type": "stream",
     "text": [
      "120"
     ]
    }
   ],
   "source": [
    "num = 1\n",
    "\n",
    "for i in range(1, stop=5)\n",
    "    num = num*i\n",
    "end\n",
    "\n",
    "print(num)"
   ]
  },
  {
   "cell_type": "markdown",
   "metadata": {},
   "source": [
    "Or we can do this using the ':' syntax as well"
   ]
  },
  {
   "cell_type": "code",
   "execution_count": 23,
   "metadata": {},
   "outputs": [
    {
     "name": "stdout",
     "output_type": "stream",
     "text": [
      "120"
     ]
    }
   ],
   "source": [
    "num = 1\n",
    "\n",
    "for i in 1:5\n",
    "    num = num*i\n",
    "end\n",
    "\n",
    "print(num)"
   ]
  },
  {
   "cell_type": "markdown",
   "metadata": {},
   "source": [
    "### While Loop"
   ]
  },
  {
   "cell_type": "markdown",
   "metadata": {},
   "source": [
    "Let's try factorial with a while loop"
   ]
  },
  {
   "cell_type": "code",
   "execution_count": 24,
   "metadata": {},
   "outputs": [
    {
     "name": "stdout",
     "output_type": "stream",
     "text": [
      "120"
     ]
    }
   ],
   "source": [
    "i = 5\n",
    "total = 1\n",
    "\n",
    "while i > 0\n",
    "    total = total*i\n",
    "    i = i-1\n",
    "end\n",
    "\n",
    "print(total)"
   ]
  },
  {
   "cell_type": "markdown",
   "metadata": {},
   "source": [
    "### Conditionals"
   ]
  },
  {
   "cell_type": "markdown",
   "metadata": {},
   "source": [
    "The following demonstrates the use of conditionals in Julia"
   ]
  },
  {
   "cell_type": "code",
   "execution_count": 25,
   "metadata": {},
   "outputs": [
    {
     "name": "stdout",
     "output_type": "stream",
     "text": [
      "1 is less than four\n",
      "2 is less than four\n",
      "3 is less than four\n",
      "4 is between four and seven\n",
      "5 is between four and seven\n",
      "6 is between four and seven\n",
      "7 is between four and seven\n",
      "8 is greater than seven\n",
      "9 is greater than seven\n",
      "10 is greater than seven\n"
     ]
    }
   ],
   "source": [
    "for i in 1:10\n",
    "    print(i)\n",
    "    if i < 4\n",
    "        print(\" is less than four\\n\")\n",
    "    elseif 4 <= i & i <= 7\n",
    "        print(\" is between four and seven\\n\")\n",
    "    else\n",
    "        print(\" is greater than seven\\n\")\n",
    "    end\n",
    "end\n",
    "        "
   ]
  },
  {
   "cell_type": "markdown",
   "metadata": {},
   "source": [
    "## DataFrames"
   ]
  },
  {
   "cell_type": "markdown",
   "metadata": {},
   "source": [
    "Now we can get into the good stuff: Dataframes and their manipulations."
   ]
  },
  {
   "cell_type": "markdown",
   "metadata": {},
   "source": [
    "Let's figure out what directory we are working in"
   ]
  },
  {
   "cell_type": "code",
   "execution_count": 28,
   "metadata": {},
   "outputs": [
    {
     "data": {
      "text/plain": [
       "\"/Users/zanemurphy/Documents/julia/julia_scripts/julia_test\""
      ]
     },
     "execution_count": 28,
     "metadata": {},
     "output_type": "execute_result"
    }
   ],
   "source": [
    "pwd()"
   ]
  },
  {
   "cell_type": "markdown",
   "metadata": {},
   "source": [
    "Now let's figure out where the data is stored"
   ]
  },
  {
   "cell_type": "code",
   "execution_count": 58,
   "metadata": {},
   "outputs": [
    {
     "data": {
      "text/plain": [
       "6-element Array{String,1}:\n",
       " \".git\"              \n",
       " \".gitignore\"        \n",
       " \".ipynb_checkpoints\"\n",
       " \"data_files\"        \n",
       " \"julia_test.html\"   \n",
       " \"julia_test.ipynb\"  "
      ]
     },
     "execution_count": 58,
     "metadata": {},
     "output_type": "execute_result"
    }
   ],
   "source": [
    "readdir()"
   ]
  },
  {
   "cell_type": "code",
   "execution_count": 62,
   "metadata": {},
   "outputs": [
    {
     "data": {
      "text/plain": [
       "2-element Array{String,1}:\n",
       " \"vidhya_loan_test.csv\" \n",
       " \"vidhya_loan_train.csv\""
      ]
     },
     "execution_count": 62,
     "metadata": {},
     "output_type": "execute_result"
    }
   ],
   "source": [
    "readdir(\"data_files\")"
   ]
  },
  {
   "cell_type": "markdown",
   "metadata": {},
   "source": [
    "Read in the training and testing data to Julia dataframes"
   ]
  },
  {
   "cell_type": "code",
   "execution_count": 50,
   "metadata": {},
   "outputs": [],
   "source": [
    "using CSV, DataFrames"
   ]
  },
  {
   "cell_type": "code",
   "execution_count": 29,
   "metadata": {},
   "outputs": [
    {
     "data": {
      "text/html": [
       "<table class=\"data-frame\"><thead><tr><th></th><th>Loan_ID</th><th>Gender</th><th>Married</th><th>Dependents</th><th>Education</th><th>Self_Employed</th><th>ApplicantIncome</th></tr><tr><th></th><th>String</th><th>String⍰</th><th>String</th><th>String⍰</th><th>String</th><th>String⍰</th><th>Int64</th></tr></thead><tbody><p>367 rows × 12 columns (omitted printing of 5 columns)</p><tr><th>1</th><td>LP001015</td><td>Male</td><td>Yes</td><td>0</td><td>Graduate</td><td>No</td><td>5720</td></tr><tr><th>2</th><td>LP001022</td><td>Male</td><td>Yes</td><td>1</td><td>Graduate</td><td>No</td><td>3076</td></tr><tr><th>3</th><td>LP001031</td><td>Male</td><td>Yes</td><td>2</td><td>Graduate</td><td>No</td><td>5000</td></tr><tr><th>4</th><td>LP001035</td><td>Male</td><td>Yes</td><td>2</td><td>Graduate</td><td>No</td><td>2340</td></tr><tr><th>5</th><td>LP001051</td><td>Male</td><td>No</td><td>0</td><td>Not Graduate</td><td>No</td><td>3276</td></tr><tr><th>6</th><td>LP001054</td><td>Male</td><td>Yes</td><td>0</td><td>Not Graduate</td><td>Yes</td><td>2165</td></tr><tr><th>7</th><td>LP001055</td><td>Female</td><td>No</td><td>1</td><td>Not Graduate</td><td>No</td><td>2226</td></tr><tr><th>8</th><td>LP001056</td><td>Male</td><td>Yes</td><td>2</td><td>Not Graduate</td><td>No</td><td>3881</td></tr><tr><th>9</th><td>LP001059</td><td>Male</td><td>Yes</td><td>2</td><td>Graduate</td><td>missing</td><td>13633</td></tr><tr><th>10</th><td>LP001067</td><td>Male</td><td>No</td><td>0</td><td>Not Graduate</td><td>No</td><td>2400</td></tr><tr><th>11</th><td>LP001078</td><td>Male</td><td>No</td><td>0</td><td>Not Graduate</td><td>No</td><td>3091</td></tr><tr><th>12</th><td>LP001082</td><td>Male</td><td>Yes</td><td>1</td><td>Graduate</td><td>missing</td><td>2185</td></tr><tr><th>13</th><td>LP001083</td><td>Male</td><td>No</td><td>3+</td><td>Graduate</td><td>No</td><td>4166</td></tr><tr><th>14</th><td>LP001094</td><td>Male</td><td>Yes</td><td>2</td><td>Graduate</td><td>missing</td><td>12173</td></tr><tr><th>15</th><td>LP001096</td><td>Female</td><td>No</td><td>0</td><td>Graduate</td><td>No</td><td>4666</td></tr><tr><th>16</th><td>LP001099</td><td>Male</td><td>No</td><td>1</td><td>Graduate</td><td>No</td><td>5667</td></tr><tr><th>17</th><td>LP001105</td><td>Male</td><td>Yes</td><td>2</td><td>Graduate</td><td>No</td><td>4583</td></tr><tr><th>18</th><td>LP001107</td><td>Male</td><td>Yes</td><td>3+</td><td>Graduate</td><td>No</td><td>3786</td></tr><tr><th>19</th><td>LP001108</td><td>Male</td><td>Yes</td><td>0</td><td>Graduate</td><td>No</td><td>9226</td></tr><tr><th>20</th><td>LP001115</td><td>Male</td><td>No</td><td>0</td><td>Graduate</td><td>No</td><td>1300</td></tr><tr><th>21</th><td>LP001121</td><td>Male</td><td>Yes</td><td>1</td><td>Not Graduate</td><td>No</td><td>1888</td></tr><tr><th>22</th><td>LP001124</td><td>Female</td><td>No</td><td>3+</td><td>Not Graduate</td><td>No</td><td>2083</td></tr><tr><th>23</th><td>LP001128</td><td>missing</td><td>No</td><td>0</td><td>Graduate</td><td>No</td><td>3909</td></tr><tr><th>24</th><td>LP001135</td><td>Female</td><td>No</td><td>0</td><td>Not Graduate</td><td>No</td><td>3765</td></tr><tr><th>25</th><td>LP001149</td><td>Male</td><td>Yes</td><td>0</td><td>Graduate</td><td>No</td><td>5400</td></tr><tr><th>26</th><td>LP001153</td><td>Male</td><td>No</td><td>0</td><td>Graduate</td><td>No</td><td>0</td></tr><tr><th>27</th><td>LP001163</td><td>Male</td><td>Yes</td><td>2</td><td>Graduate</td><td>No</td><td>4363</td></tr><tr><th>28</th><td>LP001169</td><td>Male</td><td>Yes</td><td>0</td><td>Graduate</td><td>No</td><td>7500</td></tr><tr><th>29</th><td>LP001174</td><td>Male</td><td>Yes</td><td>0</td><td>Graduate</td><td>No</td><td>3772</td></tr><tr><th>30</th><td>LP001176</td><td>Male</td><td>No</td><td>0</td><td>Graduate</td><td>No</td><td>2942</td></tr><tr><th>&vellip;</th><td>&vellip;</td><td>&vellip;</td><td>&vellip;</td><td>&vellip;</td><td>&vellip;</td><td>&vellip;</td><td>&vellip;</td></tr></tbody></table>"
      ],
      "text/latex": [
       "\\begin{tabular}{r|cccccccc}\n",
       "\t& Loan\\_ID & Gender & Married & Dependents & Education & Self\\_Employed & ApplicantIncome & \\\\\n",
       "\t\\hline\n",
       "\t& String & String⍰ & String & String⍰ & String & String⍰ & Int64 & \\\\\n",
       "\t\\hline\n",
       "\t1 & LP001015 & Male & Yes & 0 & Graduate & No & 5720 & $\\dots$ \\\\\n",
       "\t2 & LP001022 & Male & Yes & 1 & Graduate & No & 3076 & $\\dots$ \\\\\n",
       "\t3 & LP001031 & Male & Yes & 2 & Graduate & No & 5000 & $\\dots$ \\\\\n",
       "\t4 & LP001035 & Male & Yes & 2 & Graduate & No & 2340 & $\\dots$ \\\\\n",
       "\t5 & LP001051 & Male & No & 0 & Not Graduate & No & 3276 & $\\dots$ \\\\\n",
       "\t6 & LP001054 & Male & Yes & 0 & Not Graduate & Yes & 2165 & $\\dots$ \\\\\n",
       "\t7 & LP001055 & Female & No & 1 & Not Graduate & No & 2226 & $\\dots$ \\\\\n",
       "\t8 & LP001056 & Male & Yes & 2 & Not Graduate & No & 3881 & $\\dots$ \\\\\n",
       "\t9 & LP001059 & Male & Yes & 2 & Graduate &  & 13633 & $\\dots$ \\\\\n",
       "\t10 & LP001067 & Male & No & 0 & Not Graduate & No & 2400 & $\\dots$ \\\\\n",
       "\t11 & LP001078 & Male & No & 0 & Not Graduate & No & 3091 & $\\dots$ \\\\\n",
       "\t12 & LP001082 & Male & Yes & 1 & Graduate &  & 2185 & $\\dots$ \\\\\n",
       "\t13 & LP001083 & Male & No & 3+ & Graduate & No & 4166 & $\\dots$ \\\\\n",
       "\t14 & LP001094 & Male & Yes & 2 & Graduate &  & 12173 & $\\dots$ \\\\\n",
       "\t15 & LP001096 & Female & No & 0 & Graduate & No & 4666 & $\\dots$ \\\\\n",
       "\t16 & LP001099 & Male & No & 1 & Graduate & No & 5667 & $\\dots$ \\\\\n",
       "\t17 & LP001105 & Male & Yes & 2 & Graduate & No & 4583 & $\\dots$ \\\\\n",
       "\t18 & LP001107 & Male & Yes & 3+ & Graduate & No & 3786 & $\\dots$ \\\\\n",
       "\t19 & LP001108 & Male & Yes & 0 & Graduate & No & 9226 & $\\dots$ \\\\\n",
       "\t20 & LP001115 & Male & No & 0 & Graduate & No & 1300 & $\\dots$ \\\\\n",
       "\t21 & LP001121 & Male & Yes & 1 & Not Graduate & No & 1888 & $\\dots$ \\\\\n",
       "\t22 & LP001124 & Female & No & 3+ & Not Graduate & No & 2083 & $\\dots$ \\\\\n",
       "\t23 & LP001128 &  & No & 0 & Graduate & No & 3909 & $\\dots$ \\\\\n",
       "\t24 & LP001135 & Female & No & 0 & Not Graduate & No & 3765 & $\\dots$ \\\\\n",
       "\t25 & LP001149 & Male & Yes & 0 & Graduate & No & 5400 & $\\dots$ \\\\\n",
       "\t26 & LP001153 & Male & No & 0 & Graduate & No & 0 & $\\dots$ \\\\\n",
       "\t27 & LP001163 & Male & Yes & 2 & Graduate & No & 4363 & $\\dots$ \\\\\n",
       "\t28 & LP001169 & Male & Yes & 0 & Graduate & No & 7500 & $\\dots$ \\\\\n",
       "\t29 & LP001174 & Male & Yes & 0 & Graduate & No & 3772 & $\\dots$ \\\\\n",
       "\t30 & LP001176 & Male & No & 0 & Graduate & No & 2942 & $\\dots$ \\\\\n",
       "\t$\\dots$ & $\\dots$ & $\\dots$ & $\\dots$ & $\\dots$ & $\\dots$ & $\\dots$ & $\\dots$ &  \\\\\n",
       "\\end{tabular}\n"
      ],
      "text/plain": [
       "367×12 DataFrame. Omitted printing of 7 columns\n",
       "│ Row │ Loan_ID  │ Gender  │ Married │ Dependents │ Education    │\n",
       "│     │ \u001b[90mString\u001b[39m   │ \u001b[90mString⍰\u001b[39m │ \u001b[90mString\u001b[39m  │ \u001b[90mString⍰\u001b[39m    │ \u001b[90mString\u001b[39m       │\n",
       "├─────┼──────────┼─────────┼─────────┼────────────┼──────────────┤\n",
       "│ 1   │ LP001015 │ Male    │ Yes     │ 0          │ Graduate     │\n",
       "│ 2   │ LP001022 │ Male    │ Yes     │ 1          │ Graduate     │\n",
       "│ 3   │ LP001031 │ Male    │ Yes     │ 2          │ Graduate     │\n",
       "│ 4   │ LP001035 │ Male    │ Yes     │ 2          │ Graduate     │\n",
       "│ 5   │ LP001051 │ Male    │ No      │ 0          │ Not Graduate │\n",
       "│ 6   │ LP001054 │ Male    │ Yes     │ 0          │ Not Graduate │\n",
       "│ 7   │ LP001055 │ Female  │ No      │ 1          │ Not Graduate │\n",
       "│ 8   │ LP001056 │ Male    │ Yes     │ 2          │ Not Graduate │\n",
       "│ 9   │ LP001059 │ Male    │ Yes     │ 2          │ Graduate     │\n",
       "│ 10  │ LP001067 │ Male    │ No      │ 0          │ Not Graduate │\n",
       "⋮\n",
       "│ 357 │ LP002935 │ Male    │ Yes     │ 1          │ Graduate     │\n",
       "│ 358 │ LP002952 │ Male    │ No      │ 0          │ Graduate     │\n",
       "│ 359 │ LP002954 │ Male    │ Yes     │ 2          │ Not Graduate │\n",
       "│ 360 │ LP002962 │ Male    │ No      │ 0          │ Graduate     │\n",
       "│ 361 │ LP002965 │ Female  │ Yes     │ 0          │ Graduate     │\n",
       "│ 362 │ LP002969 │ Male    │ Yes     │ 1          │ Graduate     │\n",
       "│ 363 │ LP002971 │ Male    │ Yes     │ 3+         │ Not Graduate │\n",
       "│ 364 │ LP002975 │ Male    │ Yes     │ 0          │ Graduate     │\n",
       "│ 365 │ LP002980 │ Male    │ No      │ 0          │ Graduate     │\n",
       "│ 366 │ LP002986 │ Male    │ Yes     │ 0          │ Graduate     │\n",
       "│ 367 │ LP002989 │ Male    │ No      │ 0          │ Graduate     │"
      ]
     },
     "execution_count": 29,
     "metadata": {},
     "output_type": "execute_result"
    }
   ],
   "source": [
    "train = CSV.read(\"data_files/vidhya_loan_train.csv\", copycols=true)\n",
    "test = CSV.read(\"data_files/vidhya_loan_test.csv\", copycols=true)"
   ]
  },
  {
   "cell_type": "markdown",
   "metadata": {},
   "source": [
    "Issue some basic table commands on the training and testing set"
   ]
  },
  {
   "cell_type": "code",
   "execution_count": 30,
   "metadata": {},
   "outputs": [
    {
     "data": {
      "text/plain": [
       "(614, 13)"
      ]
     },
     "execution_count": 30,
     "metadata": {},
     "output_type": "execute_result"
    }
   ],
   "source": [
    "size(train)"
   ]
  },
  {
   "cell_type": "code",
   "execution_count": 31,
   "metadata": {},
   "outputs": [
    {
     "data": {
      "text/plain": [
       "(367, 12)"
      ]
     },
     "execution_count": 31,
     "metadata": {},
     "output_type": "execute_result"
    }
   ],
   "source": [
    "size(test)"
   ]
  },
  {
   "cell_type": "code",
   "execution_count": 32,
   "metadata": {},
   "outputs": [
    {
     "data": {
      "text/plain": [
       "12-element Array{Symbol,1}:\n",
       " :Loan_ID          \n",
       " :Gender           \n",
       " :Married          \n",
       " :Dependents       \n",
       " :Education        \n",
       " :Self_Employed    \n",
       " :ApplicantIncome  \n",
       " :CoapplicantIncome\n",
       " :LoanAmount       \n",
       " :Loan_Amount_Term \n",
       " :Credit_History   \n",
       " :Property_Area    "
      ]
     },
     "execution_count": 32,
     "metadata": {},
     "output_type": "execute_result"
    }
   ],
   "source": [
    "names(test)"
   ]
  },
  {
   "cell_type": "code",
   "execution_count": 33,
   "metadata": {},
   "outputs": [
    {
     "data": {
      "text/html": [
       "<table class=\"data-frame\"><thead><tr><th></th><th>Loan_ID</th><th>Gender</th><th>Married</th><th>Dependents</th><th>Education</th><th>Self_Employed</th><th>ApplicantIncome</th></tr><tr><th></th><th>String</th><th>String⍰</th><th>String⍰</th><th>String⍰</th><th>String</th><th>String⍰</th><th>Int64</th></tr></thead><tbody><p>10 rows × 13 columns (omitted printing of 6 columns)</p><tr><th>1</th><td>LP001002</td><td>Male</td><td>No</td><td>0</td><td>Graduate</td><td>No</td><td>5849</td></tr><tr><th>2</th><td>LP001003</td><td>Male</td><td>Yes</td><td>1</td><td>Graduate</td><td>No</td><td>4583</td></tr><tr><th>3</th><td>LP001005</td><td>Male</td><td>Yes</td><td>0</td><td>Graduate</td><td>Yes</td><td>3000</td></tr><tr><th>4</th><td>LP001006</td><td>Male</td><td>Yes</td><td>0</td><td>Not Graduate</td><td>No</td><td>2583</td></tr><tr><th>5</th><td>LP001008</td><td>Male</td><td>No</td><td>0</td><td>Graduate</td><td>No</td><td>6000</td></tr><tr><th>6</th><td>LP001011</td><td>Male</td><td>Yes</td><td>2</td><td>Graduate</td><td>Yes</td><td>5417</td></tr><tr><th>7</th><td>LP001013</td><td>Male</td><td>Yes</td><td>0</td><td>Not Graduate</td><td>No</td><td>2333</td></tr><tr><th>8</th><td>LP001014</td><td>Male</td><td>Yes</td><td>3+</td><td>Graduate</td><td>No</td><td>3036</td></tr><tr><th>9</th><td>LP001018</td><td>Male</td><td>Yes</td><td>2</td><td>Graduate</td><td>No</td><td>4006</td></tr><tr><th>10</th><td>LP001020</td><td>Male</td><td>Yes</td><td>1</td><td>Graduate</td><td>No</td><td>12841</td></tr></tbody></table>"
      ],
      "text/latex": [
       "\\begin{tabular}{r|cccccccc}\n",
       "\t& Loan\\_ID & Gender & Married & Dependents & Education & Self\\_Employed & ApplicantIncome & \\\\\n",
       "\t\\hline\n",
       "\t& String & String⍰ & String⍰ & String⍰ & String & String⍰ & Int64 & \\\\\n",
       "\t\\hline\n",
       "\t1 & LP001002 & Male & No & 0 & Graduate & No & 5849 & $\\dots$ \\\\\n",
       "\t2 & LP001003 & Male & Yes & 1 & Graduate & No & 4583 & $\\dots$ \\\\\n",
       "\t3 & LP001005 & Male & Yes & 0 & Graduate & Yes & 3000 & $\\dots$ \\\\\n",
       "\t4 & LP001006 & Male & Yes & 0 & Not Graduate & No & 2583 & $\\dots$ \\\\\n",
       "\t5 & LP001008 & Male & No & 0 & Graduate & No & 6000 & $\\dots$ \\\\\n",
       "\t6 & LP001011 & Male & Yes & 2 & Graduate & Yes & 5417 & $\\dots$ \\\\\n",
       "\t7 & LP001013 & Male & Yes & 0 & Not Graduate & No & 2333 & $\\dots$ \\\\\n",
       "\t8 & LP001014 & Male & Yes & 3+ & Graduate & No & 3036 & $\\dots$ \\\\\n",
       "\t9 & LP001018 & Male & Yes & 2 & Graduate & No & 4006 & $\\dots$ \\\\\n",
       "\t10 & LP001020 & Male & Yes & 1 & Graduate & No & 12841 & $\\dots$ \\\\\n",
       "\\end{tabular}\n"
      ],
      "text/plain": [
       "10×13 DataFrame. Omitted printing of 8 columns\n",
       "│ Row │ Loan_ID  │ Gender  │ Married │ Dependents │ Education    │\n",
       "│     │ \u001b[90mString\u001b[39m   │ \u001b[90mString⍰\u001b[39m │ \u001b[90mString⍰\u001b[39m │ \u001b[90mString⍰\u001b[39m    │ \u001b[90mString\u001b[39m       │\n",
       "├─────┼──────────┼─────────┼─────────┼────────────┼──────────────┤\n",
       "│ 1   │ LP001002 │ Male    │ No      │ 0          │ Graduate     │\n",
       "│ 2   │ LP001003 │ Male    │ Yes     │ 1          │ Graduate     │\n",
       "│ 3   │ LP001005 │ Male    │ Yes     │ 0          │ Graduate     │\n",
       "│ 4   │ LP001006 │ Male    │ Yes     │ 0          │ Not Graduate │\n",
       "│ 5   │ LP001008 │ Male    │ No      │ 0          │ Graduate     │\n",
       "│ 6   │ LP001011 │ Male    │ Yes     │ 2          │ Graduate     │\n",
       "│ 7   │ LP001013 │ Male    │ Yes     │ 0          │ Not Graduate │\n",
       "│ 8   │ LP001014 │ Male    │ Yes     │ 3+         │ Graduate     │\n",
       "│ 9   │ LP001018 │ Male    │ Yes     │ 2          │ Graduate     │\n",
       "│ 10  │ LP001020 │ Male    │ Yes     │ 1          │ Graduate     │"
      ]
     },
     "execution_count": 33,
     "metadata": {},
     "output_type": "execute_result"
    }
   ],
   "source": [
    "first(train, 10)"
   ]
  },
  {
   "cell_type": "code",
   "execution_count": 34,
   "metadata": {},
   "outputs": [
    {
     "data": {
      "text/html": [
       "<table class=\"data-frame\"><thead><tr><th></th><th>variable</th><th>mean</th><th>min</th><th>median</th><th>max</th><th>nunique</th><th>nmissing</th></tr><tr><th></th><th>Symbol</th><th>Union…</th><th>Any</th><th>Union…</th><th>Any</th><th>Union…</th><th>Union…</th></tr></thead><tbody><p>13 rows × 8 columns (omitted printing of 1 columns)</p><tr><th>1</th><td>Loan_ID</td><td></td><td>LP001002</td><td></td><td>LP002990</td><td>614</td><td></td></tr><tr><th>2</th><td>Gender</td><td></td><td>Female</td><td></td><td>Male</td><td>2</td><td>13</td></tr><tr><th>3</th><td>Married</td><td></td><td>No</td><td></td><td>Yes</td><td>2</td><td>3</td></tr><tr><th>4</th><td>Dependents</td><td></td><td>0</td><td></td><td>3+</td><td>4</td><td>15</td></tr><tr><th>5</th><td>Education</td><td></td><td>Graduate</td><td></td><td>Not Graduate</td><td>2</td><td></td></tr><tr><th>6</th><td>Self_Employed</td><td></td><td>No</td><td></td><td>Yes</td><td>2</td><td>32</td></tr><tr><th>7</th><td>ApplicantIncome</td><td>5403.46</td><td>150</td><td>3812.5</td><td>81000</td><td></td><td></td></tr><tr><th>8</th><td>CoapplicantIncome</td><td>1621.25</td><td>0.0</td><td>1188.5</td><td>41667.0</td><td></td><td></td></tr><tr><th>9</th><td>LoanAmount</td><td>146.412</td><td>9</td><td>128.0</td><td>700</td><td></td><td>22</td></tr><tr><th>10</th><td>Loan_Amount_Term</td><td>342.0</td><td>12</td><td>360.0</td><td>480</td><td></td><td>14</td></tr><tr><th>11</th><td>Credit_History</td><td>0.842199</td><td>0</td><td>1.0</td><td>1</td><td></td><td>50</td></tr><tr><th>12</th><td>Property_Area</td><td></td><td>Rural</td><td></td><td>Urban</td><td>3</td><td></td></tr><tr><th>13</th><td>Loan_Status</td><td></td><td>N</td><td></td><td>Y</td><td>2</td><td></td></tr></tbody></table>"
      ],
      "text/latex": [
       "\\begin{tabular}{r|cccccccc}\n",
       "\t& variable & mean & min & median & max & nunique & nmissing & \\\\\n",
       "\t\\hline\n",
       "\t& Symbol & Union… & Any & Union… & Any & Union… & Union… & \\\\\n",
       "\t\\hline\n",
       "\t1 & Loan\\_ID &  & LP001002 &  & LP002990 & 614 &  & $\\dots$ \\\\\n",
       "\t2 & Gender &  & Female &  & Male & 2 & 13 & $\\dots$ \\\\\n",
       "\t3 & Married &  & No &  & Yes & 2 & 3 & $\\dots$ \\\\\n",
       "\t4 & Dependents &  & 0 &  & 3+ & 4 & 15 & $\\dots$ \\\\\n",
       "\t5 & Education &  & Graduate &  & Not Graduate & 2 &  & $\\dots$ \\\\\n",
       "\t6 & Self\\_Employed &  & No &  & Yes & 2 & 32 & $\\dots$ \\\\\n",
       "\t7 & ApplicantIncome & 5403.46 & 150 & 3812.5 & 81000 &  &  & $\\dots$ \\\\\n",
       "\t8 & CoapplicantIncome & 1621.25 & 0.0 & 1188.5 & 41667.0 &  &  & $\\dots$ \\\\\n",
       "\t9 & LoanAmount & 146.412 & 9 & 128.0 & 700 &  & 22 & $\\dots$ \\\\\n",
       "\t10 & Loan\\_Amount\\_Term & 342.0 & 12 & 360.0 & 480 &  & 14 & $\\dots$ \\\\\n",
       "\t11 & Credit\\_History & 0.842199 & 0 & 1.0 & 1 &  & 50 & $\\dots$ \\\\\n",
       "\t12 & Property\\_Area &  & Rural &  & Urban & 3 &  & $\\dots$ \\\\\n",
       "\t13 & Loan\\_Status &  & N &  & Y & 2 &  & $\\dots$ \\\\\n",
       "\\end{tabular}\n"
      ],
      "text/plain": [
       "13×8 DataFrame. Omitted printing of 3 columns\n",
       "│ Row │ variable          │ mean     │ min      │ median │ max          │\n",
       "│     │ \u001b[90mSymbol\u001b[39m            │ \u001b[90mUnion…\u001b[39m   │ \u001b[90mAny\u001b[39m      │ \u001b[90mUnion…\u001b[39m │ \u001b[90mAny\u001b[39m          │\n",
       "├─────┼───────────────────┼──────────┼──────────┼────────┼──────────────┤\n",
       "│ 1   │ Loan_ID           │          │ LP001002 │        │ LP002990     │\n",
       "│ 2   │ Gender            │          │ Female   │        │ Male         │\n",
       "│ 3   │ Married           │          │ No       │        │ Yes          │\n",
       "│ 4   │ Dependents        │          │ 0        │        │ 3+           │\n",
       "│ 5   │ Education         │          │ Graduate │        │ Not Graduate │\n",
       "│ 6   │ Self_Employed     │          │ No       │        │ Yes          │\n",
       "│ 7   │ ApplicantIncome   │ 5403.46  │ 150      │ 3812.5 │ 81000        │\n",
       "│ 8   │ CoapplicantIncome │ 1621.25  │ 0.0      │ 1188.5 │ 41667.0      │\n",
       "│ 9   │ LoanAmount        │ 146.412  │ 9        │ 128.0  │ 700          │\n",
       "│ 10  │ Loan_Amount_Term  │ 342.0    │ 12       │ 360.0  │ 480          │\n",
       "│ 11  │ Credit_History    │ 0.842199 │ 0        │ 1.0    │ 1            │\n",
       "│ 12  │ Property_Area     │          │ Rural    │        │ Urban        │\n",
       "│ 13  │ Loan_Status       │          │ N        │        │ Y            │"
      ]
     },
     "execution_count": 34,
     "metadata": {},
     "output_type": "execute_result"
    }
   ],
   "source": [
    "describe(train)"
   ]
  },
  {
   "cell_type": "markdown",
   "metadata": {},
   "source": [
    "Set up a basic processing pipeline using the DataFramesMeta Package"
   ]
  },
  {
   "cell_type": "code",
   "execution_count": 107,
   "metadata": {},
   "outputs": [],
   "source": [
    "using DataFramesMeta"
   ]
  },
  {
   "cell_type": "code",
   "execution_count": 133,
   "metadata": {},
   "outputs": [
    {
     "data": {
      "text/html": [
       "<table class=\"data-frame\"><thead><tr><th></th><th>LoanAmount</th></tr><tr><th></th><th>Int64</th></tr></thead><tbody><p>14 rows × 1 columns</p><tr><th>1</th><td>650</td></tr><tr><th>2</th><td>600</td></tr><tr><th>3</th><td>700</td></tr><tr><th>4</th><td>495</td></tr><tr><th>5</th><td>436</td></tr><tr><th>6</th><td>480</td></tr><tr><th>7</th><td>490</td></tr><tr><th>8</th><td>570</td></tr><tr><th>9</th><td>405</td></tr><tr><th>10</th><td>500</td></tr><tr><th>11</th><td>480</td></tr><tr><th>12</th><td>480</td></tr><tr><th>13</th><td>600</td></tr><tr><th>14</th><td>496</td></tr></tbody></table>"
      ],
      "text/latex": [
       "\\begin{tabular}{r|c}\n",
       "\t& LoanAmount\\\\\n",
       "\t\\hline\n",
       "\t& Int64\\\\\n",
       "\t\\hline\n",
       "\t1 & 650 \\\\\n",
       "\t2 & 600 \\\\\n",
       "\t3 & 700 \\\\\n",
       "\t4 & 495 \\\\\n",
       "\t5 & 436 \\\\\n",
       "\t6 & 480 \\\\\n",
       "\t7 & 490 \\\\\n",
       "\t8 & 570 \\\\\n",
       "\t9 & 405 \\\\\n",
       "\t10 & 500 \\\\\n",
       "\t11 & 480 \\\\\n",
       "\t12 & 480 \\\\\n",
       "\t13 & 600 \\\\\n",
       "\t14 & 496 \\\\\n",
       "\\end{tabular}\n"
      ],
      "text/plain": [
       "14×1 DataFrame\n",
       "│ Row │ LoanAmount │\n",
       "│     │ \u001b[90mInt64\u001b[39m      │\n",
       "├─────┼────────────┤\n",
       "│ 1   │ 650        │\n",
       "│ 2   │ 600        │\n",
       "│ 3   │ 700        │\n",
       "│ 4   │ 495        │\n",
       "│ 5   │ 436        │\n",
       "│ 6   │ 480        │\n",
       "│ 7   │ 490        │\n",
       "│ 8   │ 570        │\n",
       "│ 9   │ 405        │\n",
       "│ 10  │ 500        │\n",
       "│ 11  │ 480        │\n",
       "│ 12  │ 480        │\n",
       "│ 13  │ 600        │\n",
       "│ 14  │ 496        │"
      ]
     },
     "execution_count": 133,
     "metadata": {},
     "output_type": "execute_result"
    }
   ],
   "source": [
    "@linq train |>\n",
    "dropmissing(:LoanAmount) |>\n",
    "where(:LoanAmount .> 400) |>\n",
    "select(:LoanAmount)"
   ]
  },
  {
   "cell_type": "markdown",
   "metadata": {},
   "source": [
    "Set up a basic processing pipeline using the Query Package"
   ]
  },
  {
   "cell_type": "code",
   "execution_count": 96,
   "metadata": {
    "scrolled": true
   },
   "outputs": [],
   "source": [
    "using Query"
   ]
  },
  {
   "cell_type": "code",
   "execution_count": 135,
   "metadata": {},
   "outputs": [
    {
     "data": {
      "text/html": [
       "<table class=\"data-frame\"><thead><tr><th></th><th>Loan_ID</th><th>Gender</th><th>Married</th><th>Dependents</th><th>Education</th><th>Self_Employed</th><th>ApplicantIncome</th></tr><tr><th></th><th>String</th><th>String⍰</th><th>String⍰</th><th>String⍰</th><th>String</th><th>String⍰</th><th>Int64</th></tr></thead><tbody><p>14 rows × 13 columns (omitted printing of 6 columns)</p><tr><th>1</th><td>LP001469</td><td>Male</td><td>No</td><td>0</td><td>Graduate</td><td>Yes</td><td>20166</td></tr><tr><th>2</th><td>LP001536</td><td>Male</td><td>Yes</td><td>3+</td><td>Graduate</td><td>No</td><td>39999</td></tr><tr><th>3</th><td>LP001585</td><td>missing</td><td>Yes</td><td>3+</td><td>Graduate</td><td>No</td><td>51763</td></tr><tr><th>4</th><td>LP001610</td><td>Male</td><td>Yes</td><td>3+</td><td>Graduate</td><td>No</td><td>5516</td></tr><tr><th>5</th><td>LP001907</td><td>Male</td><td>Yes</td><td>0</td><td>Graduate</td><td>No</td><td>14583</td></tr><tr><th>6</th><td>LP001996</td><td>Male</td><td>No</td><td>0</td><td>Graduate</td><td>No</td><td>20233</td></tr><tr><th>7</th><td>LP002101</td><td>Male</td><td>Yes</td><td>0</td><td>Graduate</td><td>missing</td><td>63337</td></tr><tr><th>8</th><td>LP002191</td><td>Male</td><td>Yes</td><td>0</td><td>Graduate</td><td>No</td><td>19730</td></tr><tr><th>9</th><td>LP002386</td><td>Male</td><td>No</td><td>0</td><td>Graduate</td><td>missing</td><td>12876</td></tr><tr><th>10</th><td>LP002547</td><td>Male</td><td>Yes</td><td>1</td><td>Graduate</td><td>No</td><td>18333</td></tr><tr><th>11</th><td>LP002624</td><td>Male</td><td>Yes</td><td>0</td><td>Graduate</td><td>No</td><td>20833</td></tr><tr><th>12</th><td>LP002693</td><td>Male</td><td>Yes</td><td>2</td><td>Graduate</td><td>Yes</td><td>7948</td></tr><tr><th>13</th><td>LP002813</td><td>Female</td><td>Yes</td><td>1</td><td>Graduate</td><td>Yes</td><td>19484</td></tr><tr><th>14</th><td>LP002959</td><td>Female</td><td>Yes</td><td>1</td><td>Graduate</td><td>No</td><td>12000</td></tr></tbody></table>"
      ],
      "text/latex": [
       "\\begin{tabular}{r|cccccccc}\n",
       "\t& Loan\\_ID & Gender & Married & Dependents & Education & Self\\_Employed & ApplicantIncome & \\\\\n",
       "\t\\hline\n",
       "\t& String & String⍰ & String⍰ & String⍰ & String & String⍰ & Int64 & \\\\\n",
       "\t\\hline\n",
       "\t1 & LP001469 & Male & No & 0 & Graduate & Yes & 20166 & $\\dots$ \\\\\n",
       "\t2 & LP001536 & Male & Yes & 3+ & Graduate & No & 39999 & $\\dots$ \\\\\n",
       "\t3 & LP001585 &  & Yes & 3+ & Graduate & No & 51763 & $\\dots$ \\\\\n",
       "\t4 & LP001610 & Male & Yes & 3+ & Graduate & No & 5516 & $\\dots$ \\\\\n",
       "\t5 & LP001907 & Male & Yes & 0 & Graduate & No & 14583 & $\\dots$ \\\\\n",
       "\t6 & LP001996 & Male & No & 0 & Graduate & No & 20233 & $\\dots$ \\\\\n",
       "\t7 & LP002101 & Male & Yes & 0 & Graduate &  & 63337 & $\\dots$ \\\\\n",
       "\t8 & LP002191 & Male & Yes & 0 & Graduate & No & 19730 & $\\dots$ \\\\\n",
       "\t9 & LP002386 & Male & No & 0 & Graduate &  & 12876 & $\\dots$ \\\\\n",
       "\t10 & LP002547 & Male & Yes & 1 & Graduate & No & 18333 & $\\dots$ \\\\\n",
       "\t11 & LP002624 & Male & Yes & 0 & Graduate & No & 20833 & $\\dots$ \\\\\n",
       "\t12 & LP002693 & Male & Yes & 2 & Graduate & Yes & 7948 & $\\dots$ \\\\\n",
       "\t13 & LP002813 & Female & Yes & 1 & Graduate & Yes & 19484 & $\\dots$ \\\\\n",
       "\t14 & LP002959 & Female & Yes & 1 & Graduate & No & 12000 & $\\dots$ \\\\\n",
       "\\end{tabular}\n"
      ],
      "text/plain": [
       "14×13 DataFrame. Omitted printing of 7 columns\n",
       "│ Row │ Loan_ID  │ Gender  │ Married │ Dependents │ Education │ Self_Employed │\n",
       "│     │ \u001b[90mString\u001b[39m   │ \u001b[90mString⍰\u001b[39m │ \u001b[90mString⍰\u001b[39m │ \u001b[90mString⍰\u001b[39m    │ \u001b[90mString\u001b[39m    │ \u001b[90mString⍰\u001b[39m       │\n",
       "├─────┼──────────┼─────────┼─────────┼────────────┼───────────┼───────────────┤\n",
       "│ 1   │ LP001469 │ Male    │ No      │ 0          │ Graduate  │ Yes           │\n",
       "│ 2   │ LP001536 │ Male    │ Yes     │ 3+         │ Graduate  │ No            │\n",
       "│ 3   │ LP001585 │ \u001b[90mmissing\u001b[39m │ Yes     │ 3+         │ Graduate  │ No            │\n",
       "│ 4   │ LP001610 │ Male    │ Yes     │ 3+         │ Graduate  │ No            │\n",
       "│ 5   │ LP001907 │ Male    │ Yes     │ 0          │ Graduate  │ No            │\n",
       "│ 6   │ LP001996 │ Male    │ No      │ 0          │ Graduate  │ No            │\n",
       "│ 7   │ LP002101 │ Male    │ Yes     │ 0          │ Graduate  │ \u001b[90mmissing\u001b[39m       │\n",
       "│ 8   │ LP002191 │ Male    │ Yes     │ 0          │ Graduate  │ No            │\n",
       "│ 9   │ LP002386 │ Male    │ No      │ 0          │ Graduate  │ \u001b[90mmissing\u001b[39m       │\n",
       "│ 10  │ LP002547 │ Male    │ Yes     │ 1          │ Graduate  │ No            │\n",
       "│ 11  │ LP002624 │ Male    │ Yes     │ 0          │ Graduate  │ No            │\n",
       "│ 12  │ LP002693 │ Male    │ Yes     │ 2          │ Graduate  │ Yes           │\n",
       "│ 13  │ LP002813 │ Female  │ Yes     │ 1          │ Graduate  │ Yes           │\n",
       "│ 14  │ LP002959 │ Female  │ Yes     │ 1          │ Graduate  │ No            │"
      ]
     },
     "execution_count": 135,
     "metadata": {},
     "output_type": "execute_result"
    }
   ],
   "source": [
    "@from i in train begin\n",
    "    @where i.LoanAmount > 400\n",
    "    @select i\n",
    "    @collect DataFrame\n",
    "end"
   ]
  },
  {
   "cell_type": "markdown",
   "metadata": {},
   "source": [
    "Set up a basic processing pipeline using the Lazy Package"
   ]
  },
  {
   "cell_type": "code",
   "execution_count": 137,
   "metadata": {},
   "outputs": [],
   "source": [
    "using Lazy"
   ]
  },
  {
   "cell_type": "code",
   "execution_count": 145,
   "metadata": {},
   "outputs": [
    {
     "data": {
      "text/html": [
       "<table class=\"data-frame\"><thead><tr><th></th><th>LoanAmount</th></tr><tr><th></th><th>Int64</th></tr></thead><tbody><p>14 rows × 1 columns</p><tr><th>1</th><td>650</td></tr><tr><th>2</th><td>600</td></tr><tr><th>3</th><td>700</td></tr><tr><th>4</th><td>495</td></tr><tr><th>5</th><td>436</td></tr><tr><th>6</th><td>480</td></tr><tr><th>7</th><td>490</td></tr><tr><th>8</th><td>570</td></tr><tr><th>9</th><td>405</td></tr><tr><th>10</th><td>500</td></tr><tr><th>11</th><td>480</td></tr><tr><th>12</th><td>480</td></tr><tr><th>13</th><td>600</td></tr><tr><th>14</th><td>496</td></tr></tbody></table>"
      ],
      "text/latex": [
       "\\begin{tabular}{r|c}\n",
       "\t& LoanAmount\\\\\n",
       "\t\\hline\n",
       "\t& Int64\\\\\n",
       "\t\\hline\n",
       "\t1 & 650 \\\\\n",
       "\t2 & 600 \\\\\n",
       "\t3 & 700 \\\\\n",
       "\t4 & 495 \\\\\n",
       "\t5 & 436 \\\\\n",
       "\t6 & 480 \\\\\n",
       "\t7 & 490 \\\\\n",
       "\t8 & 570 \\\\\n",
       "\t9 & 405 \\\\\n",
       "\t10 & 500 \\\\\n",
       "\t11 & 480 \\\\\n",
       "\t12 & 480 \\\\\n",
       "\t13 & 600 \\\\\n",
       "\t14 & 496 \\\\\n",
       "\\end{tabular}\n"
      ],
      "text/plain": [
       "14×1 DataFrame\n",
       "│ Row │ LoanAmount │\n",
       "│     │ \u001b[90mInt64\u001b[39m      │\n",
       "├─────┼────────────┤\n",
       "│ 1   │ 650        │\n",
       "│ 2   │ 600        │\n",
       "│ 3   │ 700        │\n",
       "│ 4   │ 495        │\n",
       "│ 5   │ 436        │\n",
       "│ 6   │ 480        │\n",
       "│ 7   │ 490        │\n",
       "│ 8   │ 570        │\n",
       "│ 9   │ 405        │\n",
       "│ 10  │ 500        │\n",
       "│ 11  │ 480        │\n",
       "│ 12  │ 480        │\n",
       "│ 13  │ 600        │\n",
       "│ 14  │ 496        │"
      ]
     },
     "execution_count": 145,
     "metadata": {},
     "output_type": "execute_result"
    }
   ],
   "source": [
    "@> begin\n",
    "    train\n",
    "    dropmissing(:LoanAmount)\n",
    "    @where(:LoanAmount .> 400)\n",
    "    @select(:LoanAmount)\n",
    "end"
   ]
  },
  {
   "cell_type": "code",
   "execution_count": null,
   "metadata": {},
   "outputs": [],
   "source": []
  }
 ],
 "metadata": {
  "kernelspec": {
   "display_name": "Julia 1.2.0",
   "language": "julia",
   "name": "julia-1.2"
  },
  "language_info": {
   "file_extension": ".jl",
   "mimetype": "application/julia",
   "name": "julia",
   "version": "1.2.0"
  }
 },
 "nbformat": 4,
 "nbformat_minor": 2
}
